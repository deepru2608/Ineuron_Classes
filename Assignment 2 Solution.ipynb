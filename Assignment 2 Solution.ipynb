{
 "cells": [
  {
   "cell_type": "markdown",
   "metadata": {},
   "source": [
    "# Task 1"
   ]
  },
  {
   "cell_type": "markdown",
   "metadata": {},
   "source": [
    "# Question 1.1\n",
    "\n",
    "Write a Python Program to implement your own myreduce() function which works exactly like\n",
    "Python's built-in function reduce()"
   ]
  },
  {
   "cell_type": "code",
   "execution_count": 19,
   "metadata": {},
   "outputs": [
    {
     "name": "stdout",
     "output_type": "stream",
     "text": [
      "In built function result : 44\n",
      "Own Function Result : 44\n"
     ]
    }
   ],
   "source": [
    "from functools import reduce\n",
    "lst = [5,7,9,4,8,6,3,2]\n",
    "x = reduce(lambda a,b: a+b, lst)\n",
    "print(f'In built function result : {x}')\n",
    "\n",
    "def myreduce(function, iterable_object):\n",
    "    actual_value = 0\n",
    "    iterable_data = iter(iterable_object)\n",
    "    try:\n",
    "        actual_value = next(iterable_data)\n",
    "    except StopIteration:\n",
    "        raise TypeError('Your iteartor object is empty, please send the filled objecr!')\n",
    "    for i in iterable_data:\n",
    "        actual_value = function(actual_value, i)\n",
    "    return actual_value\n",
    "\n",
    "data = myreduce(lambda a,b: a+b, lst)\n",
    "print(f'Own Function Result : {data}')"
   ]
  },
  {
   "cell_type": "markdown",
   "metadata": {},
   "source": [
    "# Question 1.2\n",
    "\n",
    "Write a Python program to implement your own myfilter() function which works exactly like\n",
    "Python's built-in function filter()"
   ]
  },
  {
   "cell_type": "code",
   "execution_count": 25,
   "metadata": {},
   "outputs": [
    {
     "name": "stdout",
     "output_type": "stream",
     "text": [
      "In built Filer Function Result : [4, 8, 6, 2]\n",
      "Own Filer Function Result : [4, 8, 6, 2]\n"
     ]
    }
   ],
   "source": [
    "lst = [5,7,9,4,8,6,3,2]\n",
    "x = list(filter(lambda n: n%2==0, lst))\n",
    "print(f'In built Filer Function Result : {x}')\n",
    "\n",
    "def myfilter(function, iterable_object):\n",
    "    iterable_data = iter(iterable_object)\n",
    "    new_lst = []\n",
    "    #length = len(iterable_object)\n",
    "    for i in iterable_data:\n",
    "        is_result = function(i)\n",
    "        if is_result:\n",
    "            new_lst.append(i)\n",
    "    return new_lst\n",
    "\n",
    "data = myfilter(lambda n: n%2==0, lst)\n",
    "print(f'Own Filer Function Result : {data}')"
   ]
  },
  {
   "cell_type": "markdown",
   "metadata": {},
   "source": [
    "# Question 3\n",
    "\n",
    "Implement a function longestWord() that takes a list of words and returns the longest one."
   ]
  },
  {
   "cell_type": "code",
   "execution_count": 33,
   "metadata": {},
   "outputs": [
    {
     "name": "stdout",
     "output_type": "stream",
     "text": [
      "Deepanshu\n"
     ]
    }
   ],
   "source": [
    "lst = ['Deepanshu', 'Neeraj', 'Sunil', 'Krishana', 'Vivek']\n",
    "def longestWord(lst, check_constraint = None):\n",
    "    new_lst = []\n",
    "    length = len(lst)\n",
    "    if length > 0:\n",
    "        for i in lst:\n",
    "            new_lst.append(len(i))\n",
    "        max_value_index = new_lst.index((max(new_lst)))\n",
    "        return lst[max_value_index]\n",
    "    else:\n",
    "        return 'Your iterable data is empty!'\n",
    "    \n",
    "result = longestWord(lst)\n",
    "print(result)"
   ]
  },
  {
   "cell_type": "markdown",
   "metadata": {},
   "source": [
    "# Task 2"
   ]
  },
  {
   "cell_type": "markdown",
   "metadata": {},
   "source": [
    "# Question 1\n",
    "\n",
    "Write a Python Program(with class concepts) to find the area of the triangle using the below\n",
    "formula.\n",
    "area = (s*(s-a)*(s-b)*(s-c)) ** 0.5\n",
    "Function to take the length of the sides of triangle from user should be defined in the parent\n",
    "class and function to calculate the area should be defined in subclass."
   ]
  },
  {
   "cell_type": "code",
   "execution_count": 40,
   "metadata": {},
   "outputs": [
    {
     "name": "stdout",
     "output_type": "stream",
     "text": [
      "Enter first side: 9\n",
      "Enter second side: 9\n",
      "Enter third side: 9\n",
      "Area of tringle : 35.074028853269766\n"
     ]
    }
   ],
   "source": [
    "class triangle():\n",
    "    def __init__(self):\n",
    "        self.a = 0\n",
    "        self.b = 0\n",
    "        self.c = 0\n",
    "\n",
    "class triangle_subclass(triangle):\n",
    "    def area_of_triangle(self):\n",
    "        self.a = float(input('Enter first side: '))  \n",
    "        self.b = float(input('Enter second side: '))  \n",
    "        self.c = float(input('Enter third side: '))  \n",
    "        \n",
    "        # Calculate S which semi parameter\n",
    "        s = (self.a + self.b + self.c) / 2  \n",
    "        area = (s*(s-self.a)*(s-self.b)*(s-self.c)) ** 0.5\n",
    "        print(f'Area of tringle : {area}')\n",
    "        \n",
    "get_area = triangle_subclass()\n",
    "get_area.area_of_triangle()"
   ]
  },
  {
   "cell_type": "markdown",
   "metadata": {},
   "source": [
    "# Question 2\n",
    "\n",
    "Write a function filter_long_words() that takes a list of words and an integer n and returns the list\n",
    "of words that are longer than n."
   ]
  },
  {
   "cell_type": "code",
   "execution_count": 45,
   "metadata": {},
   "outputs": [
    {
     "name": "stdout",
     "output_type": "stream",
     "text": [
      "['Deepanshu', 'Krishana']\n"
     ]
    }
   ],
   "source": [
    "lst = ['Deepanshu', 'Neeraj', 'Sunil', 'Krishana', 'Vivek']\n",
    "\n",
    "def filter_long_words(lst, n:int):\n",
    "    new_lst = []\n",
    "    length = len(lst)\n",
    "    if length > 0:\n",
    "        data = list(filter(lambda x:len(x)>n, lst))\n",
    "        return data\n",
    "    else:\n",
    "        return 'Your iterable data is empty!'\n",
    "    \n",
    "result = filter_long_words(lst, 7)\n",
    "print(result)"
   ]
  },
  {
   "cell_type": "markdown",
   "metadata": {},
   "source": [
    "# Question 3\n",
    "\n",
    "Write a Python program using function concept that maps list of words into a list of integers\n",
    "representing the lengths of the corresponding words.\n",
    "\n",
    "Hint: If a list [ ab,cde,erty] is passed on to the python function output should come as [2,3,4]\n",
    "\n",
    "Here 2,3 and 4 are the lengths of the words in the list."
   ]
  },
  {
   "cell_type": "code",
   "execution_count": 46,
   "metadata": {},
   "outputs": [
    {
     "name": "stdout",
     "output_type": "stream",
     "text": [
      "[9, 6, 5, 8, 5]\n"
     ]
    }
   ],
   "source": [
    "lst = ['Deepanshu', 'Neeraj', 'Sunil', 'Krishana', 'Vivek']\n",
    "def get_words_Length(lst):\n",
    "    new_lst = []\n",
    "    length = len(lst)\n",
    "    if length > 0:\n",
    "        for i in lst:\n",
    "            new_lst.append(len(i))\n",
    "        return new_lst\n",
    "    else:\n",
    "        return 'Your iterable data is empty!'\n",
    "    \n",
    "result = get_words_Length(lst)\n",
    "print(result)"
   ]
  },
  {
   "cell_type": "markdown",
   "metadata": {},
   "source": [
    "# Question 4\n",
    "\n",
    "Write a Python function which takes a character (i.e. a string of length 1) and returns True if it is\n",
    "a vowel, False otherwise."
   ]
  },
  {
   "cell_type": "code",
   "execution_count": 51,
   "metadata": {},
   "outputs": [
    {
     "name": "stdout",
     "output_type": "stream",
     "text": [
      "No it's Consonents\n"
     ]
    },
    {
     "data": {
      "text/plain": [
       "False"
      ]
     },
     "execution_count": 51,
     "metadata": {},
     "output_type": "execute_result"
    }
   ],
   "source": [
    "# function that filters vowels\n",
    "def filterVowels(alphabet):\n",
    "    vowels = ['a', 'e', 'i', 'o', 'u']\n",
    "\n",
    "    if(alphabet.lower() in vowels):\n",
    "        print(\"Yes it's vowels\")\n",
    "        return True\n",
    "    else:\n",
    "        print(\"No it's Consonents\")\n",
    "        return False\n",
    "\n",
    "filterVowels('Y')"
   ]
  },
  {
   "cell_type": "markdown",
   "metadata": {},
   "source": [
    "# Task 1\n",
    "\n",
    "# Question 2\n",
    "\n",
    "Implement List comprehensions to produce the following lists.\n",
    "\n",
    "Write List comprehensions to produce the following Lists"
   ]
  },
  {
   "cell_type": "code",
   "execution_count": 55,
   "metadata": {},
   "outputs": [
    {
     "data": {
      "text/plain": [
       "['A', 'C', 'A', 'D', 'G', 'I', 'L', 'D']"
      ]
     },
     "execution_count": 55,
     "metadata": {},
     "output_type": "execute_result"
    }
   ],
   "source": [
    "s = 'ACADGILD'\n",
    "result = [i for i in s]\n",
    "result"
   ]
  },
  {
   "cell_type": "code",
   "execution_count": 69,
   "metadata": {},
   "outputs": [
    {
     "data": {
      "text/plain": [
       "['x', 'xx', 'xxx', 'xxxx', 'y', 'yy', 'yyy', 'yyyy', 'z', 'zz', 'zzz', 'zzzz']"
      ]
     },
     "execution_count": 69,
     "metadata": {},
     "output_type": "execute_result"
    }
   ],
   "source": [
    "lst = ['x','y','z']\n",
    "result = [ item*num for item in lst for num in range(1,5)  ]\n",
    "result"
   ]
  },
  {
   "cell_type": "code",
   "execution_count": 71,
   "metadata": {},
   "outputs": [
    {
     "data": {
      "text/plain": [
       "['x', 'y', 'z', 'xx', 'yy', 'zz', 'xxx', 'yyy', 'zzz', 'xxxx', 'yyyy', 'zzzz']"
      ]
     },
     "execution_count": 71,
     "metadata": {},
     "output_type": "execute_result"
    }
   ],
   "source": [
    "lst = ['x','y','z']\n",
    "result = [ item*num for num in range(1,5) for item in lst  ]\n",
    "result"
   ]
  },
  {
   "cell_type": "code",
   "execution_count": 88,
   "metadata": {},
   "outputs": [
    {
     "data": {
      "text/plain": [
       "[[2], [3], [4], [3], [4], [5], [4], [5], [6]]"
      ]
     },
     "execution_count": 88,
     "metadata": {},
     "output_type": "execute_result"
    }
   ],
   "source": [
    "result = [[i+1] for j in range(1,4) for i in range(j, 3+j) ]\n",
    "result"
   ]
  },
  {
   "cell_type": "code",
   "execution_count": 91,
   "metadata": {},
   "outputs": [
    {
     "data": {
      "text/plain": [
       "[[2],\n",
       " [3],\n",
       " [4],\n",
       " [5],\n",
       " [3],\n",
       " [4],\n",
       " [5],\n",
       " [6],\n",
       " [4],\n",
       " [5],\n",
       " [6],\n",
       " [7],\n",
       " [5],\n",
       " [6],\n",
       " [7],\n",
       " [8]]"
      ]
     },
     "execution_count": 91,
     "metadata": {},
     "output_type": "execute_result"
    }
   ],
   "source": [
    "result = [[i+1] for j in range(1,5) for i in range(j, 4+j) ]\n",
    "result"
   ]
  },
  {
   "cell_type": "markdown",
   "metadata": {},
   "source": [
    "[(1, 1), (2, 1), (3, 1), (1, 2), (2, 2), (3, 2), (1, 3), (2, 3), (3, 3)]"
   ]
  },
  {
   "cell_type": "code",
   "execution_count": 93,
   "metadata": {},
   "outputs": [
    {
     "data": {
      "text/plain": [
       "[(1, 1), (2, 1), (3, 1), (1, 2), (2, 2), (3, 2), (1, 3), (2, 3), (3, 3)]"
      ]
     },
     "execution_count": 93,
     "metadata": {},
     "output_type": "execute_result"
    }
   ],
   "source": [
    "result = [(j,i) for i in range(1,4) for j in range(1,4)]\n",
    "result"
   ]
  }
 ],
 "metadata": {
  "kernelspec": {
   "display_name": "Python 3",
   "language": "python",
   "name": "python3"
  },
  "language_info": {
   "codemirror_mode": {
    "name": "ipython",
    "version": 3
   },
   "file_extension": ".py",
   "mimetype": "text/x-python",
   "name": "python",
   "nbconvert_exporter": "python",
   "pygments_lexer": "ipython3",
   "version": "3.7.6"
  }
 },
 "nbformat": 4,
 "nbformat_minor": 4
}
